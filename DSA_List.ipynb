{
 "cells": [
  {
   "cell_type": "code",
   "execution_count": 17,
   "id": "80daa323",
   "metadata": {},
   "outputs": [],
   "source": [
    " class Node:\n",
    "        def __init__(self,init_data):\n",
    "            self.data = init_data\n",
    "            self.next = None\n",
    "        def get_data(self):\n",
    "            return self.data\n",
    "        def get_next(self):\n",
    "            return self.next\n",
    "        def set_data(self,new_data):\n",
    "            self.data = newdata\n",
    "            def set_next(self, new_next):\n",
    "                self.next = new_next\n"
   ]
  },
  {
   "cell_type": "code",
   "execution_count": 13,
   "id": "e759cced",
   "metadata": {},
   "outputs": [
    {
     "name": "stdout",
     "output_type": "stream",
     "text": [
      "93\n"
     ]
    }
   ],
   "source": [
    "temp = Node(93)\n",
    "print(temp.get_data())"
   ]
  },
  {
   "cell_type": "code",
   "execution_count": 46,
   "id": "dff57def",
   "metadata": {},
   "outputs": [],
   "source": [
    "class Node:\n",
    "    def __init__(self, initdata):\n",
    "        self.data = initdata\n",
    "        self.next = None\n",
    "\n",
    "    def get_data(self):\n",
    "        return self.data\n",
    "\n",
    "    def get_next(self):\n",
    "        return self.next\n",
    "\n",
    "    def set_data(self, newdata):\n",
    "        self.data = newdata\n",
    "\n",
    "    def set_next(self, newnext):\n",
    "        self.next = newnext\n",
    "\n",
    "\n",
    "class UnorderedList:\n",
    "    def __init__(self):\n",
    "        self.head = None\n",
    "\n",
    "    def is_empty(self):\n",
    "        return self.head == None\n",
    "\n",
    "    def add(self, item):\n",
    "        temp = Node(item)\n",
    "        temp.set_next(self.head)\n",
    "        self.head = temp\n",
    "\n",
    "    def size(self):\n",
    "        count = 0\n",
    "        current = self.head\n",
    "        while current != None:\n",
    "            count = count + 1\n",
    "            current = current.get_next()\n",
    "        return count\n",
    "\n",
    "    def search(self, item):\n",
    "        current = self.head\n",
    "        found = False\n",
    "        while current != None and not found:\n",
    "            if current.get_data() == item:\n",
    "                found = True\n",
    "            else:\n",
    "                current = current.get_next()\n",
    "        return found\n",
    "\n",
    "    def remove(self, item):\n",
    "        current = self.head\n",
    "        previous = None\n",
    "        found = False\n",
    "        while not found:\n",
    "            if current.get_data() == item:\n",
    "                found = True\n",
    "            else:\n",
    "                previous = current\n",
    "                current = current.get_next()\n",
    "\n",
    "        if previous == None:\n",
    "            self.head = current.get_next()\n",
    "        else:\n",
    "            previous.set_next(current.get_next())\n"
   ]
  },
  {
   "cell_type": "code",
   "execution_count": 47,
   "id": "17b5382b",
   "metadata": {},
   "outputs": [],
   "source": [
    "mylist = UnorderedList()"
   ]
  },
  {
   "cell_type": "code",
   "execution_count": 48,
   "id": "36ad64ad",
   "metadata": {},
   "outputs": [],
   "source": [
    "mylist.add(31)\n",
    "mylist.add(77)\n",
    "mylist.add(17)\n",
    "mylist.add(93)\n",
    "mylist.add(26)\n",
    "mylist.add(54)"
   ]
  },
  {
   "cell_type": "code",
   "execution_count": 49,
   "id": "bceb52b8",
   "metadata": {},
   "outputs": [
    {
     "data": {
      "text/plain": [
       "6"
      ]
     },
     "execution_count": 49,
     "metadata": {},
     "output_type": "execute_result"
    }
   ],
   "source": [
    "mylist.size()"
   ]
  },
  {
   "cell_type": "code",
   "execution_count": 50,
   "id": "7440777f",
   "metadata": {},
   "outputs": [
    {
     "data": {
      "text/plain": [
       "True"
      ]
     },
     "execution_count": 50,
     "metadata": {},
     "output_type": "execute_result"
    }
   ],
   "source": [
    "mylist.search(31)"
   ]
  },
  {
   "cell_type": "code",
   "execution_count": 51,
   "id": "b7a81d90",
   "metadata": {},
   "outputs": [
    {
     "data": {
      "text/plain": [
       "False"
      ]
     },
     "execution_count": 51,
     "metadata": {},
     "output_type": "execute_result"
    }
   ],
   "source": [
    "mylist.search(55)"
   ]
  },
  {
   "cell_type": "code",
   "execution_count": 52,
   "id": "31282987",
   "metadata": {},
   "outputs": [],
   "source": [
    "mylist.remove(17)"
   ]
  },
  {
   "cell_type": "code",
   "execution_count": 60,
   "id": "ff2edb2f",
   "metadata": {},
   "outputs": [
    {
     "name": "stdout",
     "output_type": "stream",
     "text": [
      "\n",
      "Updated List:\n",
      "54 26 93 77 31 "
     ]
    }
   ],
   "source": [
    "print(\"\\nUpdated List:\")\n",
    "current = mylist.head\n",
    "while current != None:\n",
    "    print(current.get_data(), end=\" \")\n",
    "    current = current.get_next()"
   ]
  },
  {
   "cell_type": "code",
   "execution_count": null,
   "id": "dfd4e47e",
   "metadata": {},
   "outputs": [],
   "source": []
  }
 ],
 "metadata": {
  "kernelspec": {
   "display_name": "Python 3 (ipykernel)",
   "language": "python",
   "name": "python3"
  },
  "language_info": {
   "codemirror_mode": {
    "name": "ipython",
    "version": 3
   },
   "file_extension": ".py",
   "mimetype": "text/x-python",
   "name": "python",
   "nbconvert_exporter": "python",
   "pygments_lexer": "ipython3",
   "version": "3.9.12"
  }
 },
 "nbformat": 4,
 "nbformat_minor": 5
}
